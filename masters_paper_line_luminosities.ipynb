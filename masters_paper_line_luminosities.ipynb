{
 "cells": [
  {
   "cell_type": "code",
   "execution_count": 1,
   "metadata": {},
   "outputs": [],
   "source": [
    "import numpy as np\n",
    "from uncertainties import ufloat\n",
    "from math import *"
   ]
  },
  {
   "cell_type": "code",
   "execution_count": 2,
   "metadata": {},
   "outputs": [],
   "source": [
    "def luminosity_distance(x,H_0=70,W_M=0.3):\n",
    "    z=x\n",
    "    W_R = 0.                #Omega Radiation\n",
    "    W_K = 0.                #Omega curvature\n",
    "    c = 299792.458          #speed of light in km/s\n",
    "    H_0 = H_0 #69.6             #Hubbles constant\n",
    "    W_M = W_M #0.286               #Omega matter\n",
    "    W_V = 1 - W_M           #Omega vacuum\n",
    "    Tyr = 977.8             # coefficent for converting 1/H into Gyr\n",
    "\n",
    "    h = H_0/100\n",
    "    W_R = 4.165e-5/(h*h)\n",
    "    W_K = 1-W_M-W_R-W_V\n",
    "    a_z = 1.0/(1+1.0*z)\n",
    "    age = 0\n",
    "    n=1000\n",
    "\n",
    "    for i in range (n):\n",
    "        a = a_z * (i + 0.5) / n\n",
    "        a_dot = np.sqrt(W_K+(W_M/a)+(W_R/(a*a))+(W_V*a*a))\n",
    "        age =age + 1./a_dot\n",
    "    z_age = a_z*age/n\n",
    "    z_age_Gyr=(Tyr/H_0)*z_age\n",
    "\n",
    "    DTT = 0.0\n",
    "    DCMR = 0.0\n",
    "\n",
    "    # do integral over a=1/(1+z) from az to 1 in n steps, midpoint rule\n",
    "    for i in range(n):\n",
    "        a = a_z + (1 - a_z) * (i + 0.5) / n\n",
    "        adot = np.sqrt(W_K + (W_M / a) + (W_R / (a * a)) + (W_V * a * a))\n",
    "        DTT = DTT + 1. / adot\n",
    "        DCMR = DCMR + 1. / (a * adot)\n",
    "\n",
    "    DTT = (1. - a_z) * DTT / n\n",
    "    DCMR = (1. - a_z) * DCMR / n\n",
    "    age = DTT + z_age\n",
    "    age_Gyr = age * (Tyr / H_0)\n",
    "    DTT_Gyr = (Tyr / H_0) * DTT\n",
    "    DCMR_Gyr = (Tyr / H_0) * DCMR\n",
    "    DCMR_Mpc = (c / H_0) * DCMR\n",
    "\n",
    "    # tangential comoving distance\n",
    "\n",
    "    ratio = 1.00\n",
    "    x = sqrt(abs(W_K)) * DCMR\n",
    "    if x > 0.1:\n",
    "        if W_K > 0:\n",
    "            ratio = 0.5 * (exp(x) - exp(-x)) / x\n",
    "        else:\n",
    "            ratio = sin(x) / x\n",
    "    else:\n",
    "        y = x * x\n",
    "        if W_K < 0: y = -y\n",
    "        ratio = 1. + y / 6. + y * y / 120.\n",
    "    DCMT = ratio * DCMR\n",
    "    DA = a_z * DCMT\n",
    "    DA_Mpc = (c / H_0) * DA\n",
    "    kpc_DA = DA_Mpc / 206.264806\n",
    "    DA_Gyr = (Tyr / H_0) * DA\n",
    "    DL = DA / (a_z * a_z)\n",
    "    DL_Mpc = (c / H_0) * DL\n",
    "    return DL_Mpc\n"
   ]
  },
  {
   "cell_type": "code",
   "execution_count": null,
   "metadata": {},
   "outputs": [],
   "source": []
  },
  {
   "cell_type": "code",
   "execution_count": 3,
   "metadata": {},
   "outputs": [],
   "source": [
    "def line_luminosity_solar(I, obs_freq, err_I=0, z=0, D_Mpc=0, err_D_Mpc=0, mu=1, err_mu=0, H_0=70, W_M=0.3):\n",
    "\n",
    "    \"\"\"\n",
    "\n",
    "    :param I: Integrated Line Flux (in Jy kms-1)\n",
    "    :param obs_freq: Observed Frequency of the Line (in GHz)\n",
    "    :param err_I: error on the Integrated Line Flux (in Jy kms-1)\n",
    "    :param z: Redshift\n",
    "    :param D_Mpc: Luminosity Distance in Mpc\n",
    "    :param err_D_Mpc: error on the Luminosity Distance in Mpc\n",
    "    :param mu: Gravitational Magnification Factor\n",
    "    :param err_mu: error on Gravitational Magnification Factor\n",
    "    :param H_0: Hubbles constant\n",
    "    :param W_M: Omega matter\n",
    "    :return:\n",
    "    \"\"\"\n",
    "\n",
    "    print(\"Line Luminosity (in terms for solar L_(.)\")\n",
    "\n",
    "    integrated_line_flux = ufloat(I, err_I)\n",
    "    mu = ufloat(mu, err_mu)\n",
    "\n",
    "    if z != 0 and D_Mpc == 0:\n",
    "        Luminosity_Distance_Mpc = luminosity_distance(z, H_0, W_M)\n",
    "\n",
    "    if D_Mpc != 0:\n",
    "        if err_D_Mpc == 0:\n",
    "            Luminosity_Distance_Mpc = D_Mpc\n",
    "        else:\n",
    "            Luminosity_Distance_Mpc = ufloat(D_Mpc, err_D_Mpc)\n",
    "\n",
    "    print(f\"Integrated Line Flux = {integrated_line_flux} JyKm/s\")\n",
    "    print(f\"Luminosity Distance = {Luminosity_Distance_Mpc} Mpc\")\n",
    "    print(f\"Observed Frequency = {obs_freq} GHz\")\n",
    "    if mu != 1:\n",
    "        print(f\"Gravitational Magnification Factor = {mu}\")\n",
    "    print(\"\")\n",
    "\n",
    "    constant = 0.00104\n",
    "\n",
    "    line_luminsoity = (constant * integrated_line_flux * (Luminosity_Distance_Mpc ** 2) * obs_freq) / 1e8\n",
    "\n",
    "    print(f\"Line Luminosity Before magnification correction = {line_luminsoity} x10^8 L_(.)\")\n",
    "    print(f\"Line Luminosity After magnification correction = {line_luminsoity / mu} x10^8 L_(.)\")"
   ]
  },
  {
   "cell_type": "code",
   "execution_count": 4,
   "metadata": {},
   "outputs": [
    {
     "name": "stdout",
     "output_type": "stream",
     "text": [
      "Line Luminosity (in terms for solar L_(.)\n",
      "Integrated Line Flux = 2.3+/-0.7 JyKm/s\n",
      "Luminosity Distance = 36431.565040410365 Mpc\n",
      "Observed Frequency = 289.02440954227166 GHz\n",
      "\n",
      "Line Luminosity Before magnification correction = 9.2+/-2.8 x10^8 L_(.)\n",
      "Line Luminosity After magnification correction = 9.2+/-2.8 x10^8 L_(.)\n"
     ]
    }
   ],
   "source": [
    "#GN20\n",
    "z=4.0554\n",
    "f = (1461.134/(1+z))\n",
    "line_luminosity_solar(I=2.3,err_I=0.7,obs_freq=f,z=z)"
   ]
  },
  {
   "cell_type": "code",
   "execution_count": 5,
   "metadata": {},
   "outputs": [
    {
     "name": "stdout",
     "output_type": "stream",
     "text": [
      "Line Luminosity (in terms for solar L_(.)\n",
      "Integrated Line Flux = 9.4+/-2.0 JyKm/s\n",
      "Luminosity Distance = 38435.754149098044 Mpc\n",
      "Observed Frequency = 278.68281518214764 GHz\n",
      "Gravitational Magnification Factor = 5.8+/-0\n",
      "\n",
      "Line Luminosity Before magnification correction = 40+/-9 x10^8 L_(.)\n",
      "Line Luminosity After magnification correction = 6.9+/-1.5 x10^8 L_(.)\n"
     ]
    }
   ],
   "source": [
    "#ID141\n",
    "z = 4.243\n",
    "f= (1461.134/(1+z))\n",
    "line_luminosity_solar(I=9.4,err_I=2.0,obs_freq=f,z=z,mu=5.8)"
   ]
  },
  {
   "cell_type": "code",
   "execution_count": 6,
   "metadata": {},
   "outputs": [
    {
     "name": "stdout",
     "output_type": "stream",
     "text": [
      "Line Luminosity (in terms for solar L_(.)\n",
      "Integrated Line Flux = 1.7+/-0.7 JyKm/s\n",
      "Luminosity Distance = 37120.32143100166 Mpc\n",
      "Observed Frequency = 285.377734375 GHz\n",
      "Gravitational Magnification Factor = 5.3+/-0\n",
      "\n",
      "Line Luminosity Before magnification correction = 7.0+/-2.9 x10^8 L_(.)\n",
      "Line Luminosity After magnification correction = 1.3+/-0.5 x10^8 L_(.)\n"
     ]
    }
   ],
   "source": [
    "#PSSJ2322\n",
    "\"\"\"\n",
    "The integrated Line Flux for PSSJ2322 is 1.71. The '17.4' value in the excel sheet is wrong. \n",
    "Dr Neri confirmed this in one of the emails. \n",
    "\"\"\"\n",
    "z=4.12\n",
    "f = (1461.134/(1+z))\n",
    "line_luminosity_solar(I=1.71,err_I=0.7,obs_freq=f,z=z,mu=5.3)"
   ]
  },
  {
   "cell_type": "code",
   "execution_count": 7,
   "metadata": {},
   "outputs": [
    {
     "data": {
      "text/plain": [
       "(1.3142857142857143, 7.076923076923076)"
      ]
     },
     "execution_count": 7,
     "metadata": {},
     "output_type": "execute_result"
    }
   ],
   "source": [
    "9.2/7,9.2/1.3"
   ]
  }
 ],
 "metadata": {
  "kernelspec": {
   "display_name": "Python 3",
   "language": "python",
   "name": "python3"
  },
  "language_info": {
   "codemirror_mode": {
    "name": "ipython",
    "version": 3
   },
   "file_extension": ".py",
   "mimetype": "text/x-python",
   "name": "python",
   "nbconvert_exporter": "python",
   "pygments_lexer": "ipython3",
   "version": "3.8.3"
  }
 },
 "nbformat": 4,
 "nbformat_minor": 4
}
